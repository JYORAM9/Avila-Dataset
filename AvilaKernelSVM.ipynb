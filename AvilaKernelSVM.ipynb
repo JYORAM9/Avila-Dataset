{
 "cells": [
  {
   "cell_type": "code",
   "execution_count": 11,
   "metadata": {},
   "outputs": [
    {
     "name": "stderr",
     "output_type": "stream",
     "text": [
      "C:\\Users\\saira\\Anaconda3\\lib\\site-packages\\sklearn\\discriminant_analysis.py:442: UserWarning: The priors do not sum to 1. Renormalizing\n",
      "  UserWarning)\n"
     ]
    },
    {
     "data": {
      "text/plain": [
       "Text(0.5,1,'LDA vs PCA vs Kernel SVM Classifier')"
      ]
     },
     "execution_count": 11,
     "metadata": {},
     "output_type": "execute_result"
    },
    {
     "data": {
      "image/png": "[encoded data removed]",
      "text/plain": [
       "<Figure size 576x576 with 1 Axes>"
      ]
     },
     "metadata": {},
     "output_type": "display_data"
    }
   ],
   "source": [
    "import pandas as pd\n",
    "import numpy as np\n",
    "import matplotlib.pyplot as plt\n",
    "import os\n",
    "from sklearn.cross_validation import train_test_split\n",
    "from sklearn.decomposition import PCA\n",
    "from sklearn.discriminant_analysis import LinearDiscriminantAnalysis\n",
    "from sklearn.metrics import accuracy_score\n",
    "from sklearn.svm import SVC\n",
    "\n",
    "\n",
    "df = pd.read_csv('avila.txt')\n",
    "\n",
    "\n",
    "X =df.iloc[:,0:9]\n",
    "y =df.iloc[:,-1]\n",
    "\n",
    "from sklearn.preprocessing import LabelEncoder\n",
    "labelencoder_y=LabelEncoder()\n",
    "y = labelencoder_y.fit_transform(y)\n",
    "\n",
    "accl=[]\n",
    "accp =[]\n",
    "acc =[]\n",
    "\n",
    "for i in [0.10,0.20,0.30,0.40,0.50]:\n",
    "\n",
    "    X_train ,X_test,y_train,y_test = train_test_split(X,y, test_size=i,random_state=0) \n",
    "    \n",
    "    # Fitting Kernel SVM to the Training set\n",
    "    classifier = SVC(kernel = 'rbf', random_state = 0)\n",
    "    classifierp = SVC(kernel = 'rbf', random_state = 0)\n",
    "    classifierl = SVC(kernel = 'rbf', random_state = 0)\n",
    "    \n",
    "    #Computing PCA projection\n",
    "    pca = PCA(n_components=3)\n",
    "    X_trainp= pca.fit(X_train).transform(X_train)\n",
    "    X_testp = pca.transform(X_test)\n",
    "    classifierp.fit(X_trainp,y_train)\n",
    "    p_pred = classifierp.predict(X_testp)\n",
    "    # Accuracy of PCA\n",
    "    acc1 = accuracy_score(y_test, p_pred)\n",
    "    accp.append(acc1)\n",
    "    \n",
    "    #Computing Linear Discriminant Analysis projection\n",
    "    lda = LinearDiscriminantAnalysis(n_components=3)\n",
    "    X_trainl = lda.fit(X_train, y_train).transform(X_train)\n",
    "    X_testl = lda.transform(X_test)\n",
    "    classifierl.fit(X_trainl,y_train)\n",
    "    l_pred = classifierl.predict(X_testl)\n",
    "    #Accuracy of LDA\n",
    "    acc2 = accuracy_score(y_test, l_pred)\n",
    "    accl.append(acc2)\n",
    "    \n",
    "    \n",
    "    #Computing Classifier\n",
    "    classifier.fit(X_train,y_train)\n",
    "    y_pred = pred = classifier.predict(X_test)\n",
    "    #Accuracy of Classifier\n",
    "    acc3 = accuracy_score(y_test, y_pred)\n",
    "    acc.append(acc3)\n",
    "    \n",
    "\n",
    "    \n",
    "\n",
    "    \n",
    "trainsize = [0.10,0.20,0.30,0.40,0.50]\n",
    "fig = plt.figure(figsize=(8,8))\n",
    "ax = fig.add_subplot(1, 1, 1)\n",
    "plt.scatter(trainsize,acc,color='green')\n",
    "plt.plot(trainsize,acc,color='green',label ='Classifier')\n",
    "plt.scatter(trainsize,accl,color='blue')\n",
    "plt.plot(trainsize,accl,color='blue',label='LDA')\n",
    "plt.scatter(trainsize,accp,color='red')\n",
    "plt.plot(trainsize,accp,color='red',label = 'PCA')\n",
    "plt.legend()\n",
    "plt.axis([0,0.6,0.49,0.80])\n",
    "plt.xlabel('training size')\n",
    "plt.ylabel('accuracy')\n",
    "plt.title('LDA vs PCA vs Kernel SVM Classifier')\n"
   ]
  },
  {
   "cell_type": "code",
   "execution_count": 12,
   "metadata": {},
   "outputs": [
    {
     "name": "stdout",
     "output_type": "stream",
     "text": [
      "Kernel SVM Accuracy\n",
      " [0.7267497603068073, 0.6970278044103547, 0.7053371684244167, 0.7049376797698945, 0.6880153403643336]\n",
      "PCA Accuracy\n",
      " [0.5119846596356663, 0.5038350910834132, 0.5241291147331416, 0.5263662511984659, 0.5198465963566635]\n",
      "LDA Accuracy\n",
      " [0.5790987535953979, 0.5637583892617449, 0.5551294343240653, 0.5656759348034516, 0.5545541706615532]\n"
     ]
    }
   ],
   "source": [
    "print(\"Kernel SVM Accuracy\\n\", acc)\n",
    "print(\"PCA Accuracy\\n\", accp)\n",
    "print(\"LDA Accuracy\\n\", accl)"
   ]
  },
  {
   "cell_type": "code",
   "execution_count": null,
   "metadata": {},
   "outputs": [],
   "source": []
  }
 ],
 "metadata": {
  "kernelspec": {
   "display_name": "Python 3",
   "language": "python",
   "name": "python3"
  },
  "language_info": {
   "codemirror_mode": {
    "name": "ipython",
    "version": 3
   },
   "file_extension": ".py",
   "mimetype": "text/x-python",
   "name": "python",
   "nbconvert_exporter": "python",
   "pygments_lexer": "ipython3",
   "version": "3.6.5"
  }
 },
 "nbformat": 4,
 "nbformat_minor": 2
}
